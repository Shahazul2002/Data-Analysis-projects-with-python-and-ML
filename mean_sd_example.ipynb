{
 "cells": [
  {
   "cell_type": "markdown",
   "metadata": {},
   "source": [
    "# Mean and Standard Deviation Example"
   ]
  },
  {
   "cell_type": "markdown",
   "metadata": {},
   "source": [
    "## 1. Mean Formula\n",
    "For n data points $x_1, x_2, \\dots, x_n$: \n",
    "$$\\bar{x} = \\frac{1}{n} \\sum_{i=1}^n x_i$$"
   ]
  },
  {
   "cell_type": "markdown",
   "metadata": {},
   "source": [
    "## 2. Variance and Standard Deviation\n",
    "- Population variance: $\\sigma^2 = \\frac{1}{n} \\sum_{i=1}^n (x_i - \\mu)^2$\n",
    "- Sample variance: $s^2 = \\frac{1}{n-1} \\sum_{i=1}^n (x_i - \\bar{x})^2$\n",
    "- Population SD: $\\sigma = \\sqrt{\\sigma^2}$\n",
    "- Sample SD: $s = \\sqrt{s^2}$"
   ]
  },
  {
   "cell_type": "markdown",
   "metadata": {},
   "source": [
    "## 3. Example Data\n",
    "$x = [2, 4, 4, 4, 5, 5, 7, 9]$"
   ]
  },
  {
   "cell_type": "code",
   "execution_count": null,
   "metadata": {},
   "outputs": [],
   "source": [
    "import numpy as np\n",
    "x = np.array([2, 4, 4, 4, 5, 5, 7, 9])\n",
    "\n",
    "# Mean\n",
    "mean = np.mean(x)\n",
    "mean"
   ]
  },
  {
   "cell_type": "code",
   "execution_count": null,
   "metadata": {},
   "outputs": [],
   "source": [
    "# Population variance and SD\n",
    "pop_var = np.var(x)\n",
    "pop_sd = np.std(x)\n",
    "pop_var, pop_sd"
   ]
  },
  {
   "cell_type": "code",
   "execution_count": null,
   "metadata": {},
   "outputs": [],
   "source": [
    "# Sample variance and SD\n",
    "sample_var = np.var(x, ddof=1)\n",
    "sample_sd = np.std(x, ddof=1)\n",
    "sample_var, sample_sd"
   ]
  }
 ],
 "metadata": {
  "kernelspec": {
   "display_name": "Python 3",
   "language": "python",
   "name": "python3"
  },
  "language_info": {
   "name": "python",
   "version": "3.9"
  }
 },
 "nbformat": 4,
 "nbformat_minor": 5
}